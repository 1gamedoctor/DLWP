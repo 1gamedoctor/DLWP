{
  "nbformat": 4,
  "nbformat_minor": 0,
  "metadata": {
    "colab": {
      "name": "Blender Cloud rendering.ipynb",
      "provenance": [],
      "collapsed_sections": [],
      "authorship_tag": "ABX9TyN8oa3OGm1cMTX4QnIPbfQY",
      "include_colab_link": true
    },
    "kernelspec": {
      "name": "python3",
      "display_name": "Python 3"
    },
    "language_info": {
      "name": "python"
    },
    "accelerator": "GPU"
  },
  "cells": [
    {
      "cell_type": "markdown",
      "metadata": {
        "id": "view-in-github",
        "colab_type": "text"
      },
      "source": [
        "<a href=\"https://colab.research.google.com/github/1gamedoctor/DLWP/blob/master/Blender_Cloud_rendering.ipynb\" target=\"_parent\"><img src=\"https://colab.research.google.com/assets/colab-badge.svg\" alt=\"Open In Colab\"/></a>"
      ]
    },
    {
      "cell_type": "code",
      "execution_count": null,
      "metadata": {
        "id": "Aaclm8w5rLes"
      },
      "outputs": [],
      "source": [
        "!nvidia-smi"
      ]
    },
    {
      "cell_type": "code",
      "source": [
        "#import your google drive document for the output and project input\n",
        "from google.colab import drive\n",
        "drive.mount('/content/drive')"
      ],
      "metadata": {
        "colab": {
          "base_uri": "https://localhost:8080/"
        },
        "id": "QyF9LXFZreEU",
        "outputId": "2dd61ceb-89c8-4c24-e441-4726cea78281"
      },
      "execution_count": null,
      "outputs": [
        {
          "output_type": "stream",
          "name": "stdout",
          "text": [
            "Mounted at /content/drive\n"
          ]
        }
      ]
    },
    {
      "cell_type": "code",
      "source": [
        "#install blender 3.0 or any other version here\n",
        "!wget https://ftp.nluug.nl/pub/graphics/blender/release/Blender3.0/blender-3.0.1-linux-x64.tar.xz"
      ],
      "metadata": {
        "id": "zDwk1XJOthGZ"
      },
      "execution_count": null,
      "outputs": []
    },
    {
      "cell_type": "code",
      "source": [
        "#extract blender\n",
        "!tar xf blender-3.0.1-linux-x64.tar.xz"
      ],
      "metadata": {
        "id": "phboUztFuPNH"
      },
      "execution_count": null,
      "outputs": []
    },
    {
      "cell_type": "code",
      "source": [
        "#Deletes the Default libtcmalloc-minimal4 version and installs the Ubuntu default version\n",
        "import os\n",
        "\n",
        "os.environ[\"LD_PRELOAD\"] = \"\"\n",
        "\n",
        "#Deletes wrong Version of libtcmalloc-minimal4\n",
        "!apt remove libtcmalloc-minimal4\n",
        "#Installs correct version of libtcmalloc-minimal4\n",
        "!apt install libtcmalloc-minimal4\n",
        "\n",
        "#Adds this library to the user environment\n",
        "os.environ[\"LD_PRELOAD\"] = \"/usr/lib/x86_64-linux-gnu/libtcmalloc_minimal.so.4.3.0\""
      ],
      "metadata": {
        "id": "K0pQMGYArlRi"
      },
      "execution_count": null,
      "outputs": []
    },
    {
      "cell_type": "code",
      "source": [
        "#change the file name here\n",
        "filename = '/content/drive/MyDrive/Deepchronicles/box_model/box_animation.blend'"
      ],
      "metadata": {
        "id": "cfcvfKzErqdw"
      },
      "execution_count": null,
      "outputs": []
    },
    {
      "cell_type": "code",
      "source": [
        "# edit the -o to your specified output location\n",
        "!./blender-3.0.1-linux-x64/blender -b $filename -noaudio -E 'CYCLES' --debug-all -o \"/content/drive/MyDrive/DeepChronicles/BlenderRenders\" -s 1 -e 50 -F 'PNG' -a -- --cycles-device CUDA"
      ],
      "metadata": {
        "id": "hEwxQMwZr5Dz"
      },
      "execution_count": null,
      "outputs": []
    },
    {
      "cell_type": "code",
      "source": [
        "#!./blender-3.0.1-linux-x64/blender -b $filename -noaudio -E 'CYCLES' -o \"/content/drive/MyDrive/Deepchronicles/BlenderRenders\" -f 1 -F 'PNG' -- --cycles-device OPTIX"
      ],
      "metadata": {
        "id": "QV6enIaVr3z5"
      },
      "execution_count": null,
      "outputs": []
    },
    {
      "cell_type": "code",
      "source": [
        "#!./blender-3.0.1-linux-x64/blender -b $filename -noaudio -E 'CYCLES' -o \"/content/drive/MyDrive/Deepchronicles/BlenderRenders\" -s 1 -e 250 -a -- --cycles-device CUDA"
      ],
      "metadata": {
        "id": "O6PlsRxLrwCP"
      },
      "execution_count": null,
      "outputs": []
    }
  ]
}